{
 "cells": [
  {
   "cell_type": "code",
   "execution_count": 1,
   "id": "78992c41-099d-4ca0-9d19-7f163ef9eb5f",
   "metadata": {
    "tags": []
   },
   "outputs": [],
   "source": [
    "from selenium import webdriver\n",
    "from selenium.webdriver.common.keys import Keys\n",
    "from selenium.webdriver.common.by import By\n",
    "import undetected_chromedriver as uc\n",
    "driver = uc.Chrome()\n",
    "\n",
    "#undetected prevents getting \"access denied error it is just for chrome \"\n",
    "\n",
    "\n",
    "\n",
    "\n",
    "#options = webdriver.ChromeOptions()\n",
    "#driver_path=r\"F:\\Web Scraping\\chromedriver_win32\\chromedriver.exe\"\n",
    "#options.add_argument('--ignore-certificate-errors')\n",
    "#options.add_argument('--ignore-ssl-errors')\n",
    "#options.add_experimental_option('excludeSwitches', ['enable-logging'])\n",
    "#driver = webdriver.Chrome(driver_path, chrome_options=options)\n",
    "#driver.delete_all_cookies()\n",
    "#driver.implicitly_wait(10)\n",
    "#driver.get(\"https://google.com\")"
   ]
  },
  {
   "cell_type": "code",
   "execution_count": 2,
   "id": "83458d1b-f26b-4fe9-8fa4-df650ebd99d0",
   "metadata": {},
   "outputs": [],
   "source": [
    "#def __init__(self):\n",
    "    #options = webdriver.ChromeOptions()\n",
    "    #options.add_argument('--ignore-certificate-errors')\n",
    "    #options.add_argument('--ignore-ssl-errors')\n",
    "    #options.add_argument('headless')\n",
    "    #options.add_argument(\"--user-agent=Mozilla/5.0 (Windows NT 10.0; Win64; x64) AppleWebKit/537.36 (KHTML, like Gecko) Chrome/61.0.3163.100 Safari/537.36\")\n",
    "    #self.driver = webdriver.Chrome(chrome_path, options=options)"
   ]
  },
  {
   "cell_type": "code",
   "execution_count": 3,
   "id": "a854b0a6-71ca-4060-865a-779d15aab892",
   "metadata": {},
   "outputs": [],
   "source": [
    "Url=\"https://www.mastersportal.com/\"\n",
    "driver.get(Url)"
   ]
  },
  {
   "cell_type": "code",
   "execution_count": 4,
   "id": "e6edd8e7-55b8-459e-808a-466f6f349579",
   "metadata": {},
   "outputs": [],
   "source": [
    "search=driver.find_element(By.ID,\"HomeWhat\")\n",
    "#finding element have different ways defined in selenium doc, here we used element by id \n",
    "#to find id right click on the element ->inspect"
   ]
  },
  {
   "cell_type": "code",
   "execution_count": 5,
   "id": "53d42161-d359-4f2c-b30a-d6cb14870cb5",
   "metadata": {},
   "outputs": [],
   "source": [
    "search.send_keys(\"computer\")\n",
    "#in the element enters computer\n",
    "search.send_keys(Keys.ENTER)\n",
    "#Taps enter \n",
    "#by entering it jumps into next element which is location \n",
    "#driver.quit()\n",
    "#it closes the browser"
   ]
  },
  {
   "cell_type": "code",
   "execution_count": 6,
   "id": "44d627d6-aafd-40e6-bb2f-eaae9c373e87",
   "metadata": {},
   "outputs": [],
   "source": [
    "search2=driver.find_element(By.ID,\"HomeWhere\")\n",
    "search2.send_keys(\"Italy\")\n",
    "#in the element enters computer\n",
    "search2.send_keys(Keys.ENTER)"
   ]
  },
  {
   "cell_type": "code",
   "execution_count": 7,
   "id": "ba1dd856-7424-4466-acad-7bb4a3715332",
   "metadata": {},
   "outputs": [],
   "source": [
    "Titles=driver.find_elements(By.CLASS_NAME, \"StudyName\")\n",
    "Uni=driver.find_elements(By.CLASS_NAME, \"OrganisationName\")\n",
    "Tuition=driver.find_elements(By.CLASS_NAME, \"TuitionValue\")\n",
    "Duration=driver.find_elements(By.CLASS_NAME, \"DurationValue\")\n",
    "City=driver.find_elements(By.CLASS_NAME, \"OrganisationLocation\")"
   ]
  },
  {
   "cell_type": "code",
   "execution_count": 8,
   "id": "7b8d836a-51f8-460c-ab40-2492fa1b0126",
   "metadata": {},
   "outputs": [],
   "source": [
    "import xlsxwriter\n",
    "workbook = xlsxwriter.Workbook('MasterPositions')\n",
    "worksheet = workbook.add_worksheet()\n",
    "row=0\n",
    "col=0\n",
    "for (T, U, C,D,Tu) in (zip(Titles, Uni, City,Duration,Tuition)):\n",
    "    worksheet.write(row,col,T.text)\n",
    "    worksheet.write(row,col+1,U.text)\n",
    "    worksheet.write(row,col+2,C.text)\n",
    "    worksheet.write(row,col+3,D.text)\n",
    "    worksheet.write(row,col+4,Tu.text)\n",
    "    row+=1\n",
    "workbook.close()"
   ]
  },
  {
   "cell_type": "code",
   "execution_count": null,
   "id": "f6ea487b-b7e8-4346-9065-32cb8d73f2e5",
   "metadata": {},
   "outputs": [],
   "source": []
  }
 ],
 "metadata": {
  "kernelspec": {
   "display_name": "Python 3 (ipykernel)",
   "language": "python",
   "name": "python3"
  },
  "language_info": {
   "codemirror_mode": {
    "name": "ipython",
    "version": 3
   },
   "file_extension": ".py",
   "mimetype": "text/x-python",
   "name": "python",
   "nbconvert_exporter": "python",
   "pygments_lexer": "ipython3",
   "version": "3.11.1"
  }
 },
 "nbformat": 4,
 "nbformat_minor": 5
}
